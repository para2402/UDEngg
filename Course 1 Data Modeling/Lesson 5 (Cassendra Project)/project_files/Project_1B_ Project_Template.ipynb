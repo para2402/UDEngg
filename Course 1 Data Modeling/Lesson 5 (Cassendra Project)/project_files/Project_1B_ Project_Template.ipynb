{
 "cells": [
  {
   "cell_type": "markdown",
   "metadata": {
    "editable": true
   },
   "source": [
    "# Part I. ETL Pipeline for Pre-Processing the Files"
   ]
  },
  {
   "cell_type": "markdown",
   "metadata": {
    "editable": true
   },
   "source": [
    "#### Import Python packages "
   ]
  },
  {
   "cell_type": "code",
   "execution_count": 1,
   "metadata": {
    "editable": true
   },
   "outputs": [],
   "source": [
    "# Import Python packages \n",
    "import pandas as pd\n",
    "import cassandra\n",
    "import re\n",
    "import os\n",
    "import glob\n",
    "import numpy as np\n",
    "import json\n",
    "import csv"
   ]
  },
  {
   "cell_type": "markdown",
   "metadata": {
    "editable": true
   },
   "source": [
    "#### Creating list of filepaths to process original event csv data files"
   ]
  },
  {
   "cell_type": "code",
   "execution_count": 7,
   "metadata": {
    "editable": true
   },
   "outputs": [
    {
     "name": "stdout",
     "output_type": "stream",
     "text": [
      "\t Current Working Directory:  /home/workspace\n",
      "Total # of *.csv files found:  30\n"
     ]
    }
   ],
   "source": [
    "print(\"\\t Current Working Directory: \", os.getcwd())\n",
    "filepath = os.getcwd() + '/event_data'\n",
    "for root, dirs, files in os.walk(filepath):\n",
    "    file_path_list = glob.glob(os.path.join(root,'*'))\n",
    "\n",
    "print(\"Total # of *.csv files found: \", len(file_path_list))"
   ]
  },
  {
   "cell_type": "markdown",
   "metadata": {
    "editable": true
   },
   "source": [
    "#### Processing the files to create the data file csv that will be used for Apache Casssandra tables"
   ]
  },
  {
   "cell_type": "code",
   "execution_count": 8,
   "metadata": {
    "editable": true
   },
   "outputs": [
    {
     "name": "stdout",
     "output_type": "stream",
     "text": [
      "Total # of rows:  8056\n"
     ]
    }
   ],
   "source": [
    "full_data_rows_list = [] \n",
    "    \n",
    "# for every filepath in the file path list \n",
    "for f in file_path_list:\n",
    "\n",
    "# reading csv file \n",
    "    with open(f, 'r', encoding = 'utf8', newline='') as csvfile: \n",
    "        # creating a csv reader object \n",
    "        csvreader = csv.reader(csvfile) \n",
    "        next(csvreader)\n",
    "        \n",
    " # extracting each data row one by one and append it        \n",
    "        for line in csvreader:\n",
    "            full_data_rows_list.append(line)\n",
    "\n",
    "print(\"Total # of rows: \", len(full_data_rows_list))\n",
    "\n",
    "# creating a smaller event data csv file called event_datafile_full csv that will be used to insert data into the \\\n",
    "# Apache Cassandra tables\n",
    "csv.register_dialect('myDialect', quoting=csv.QUOTE_ALL, skipinitialspace=True)\n",
    "\n",
    "with open('event_datafile_new.csv', 'w', encoding = 'utf8', newline='') as f:\n",
    "    writer = csv.writer(f, dialect='myDialect')\n",
    "    writer.writerow(['artist','firstName','gender','itemInSession','lastName','length',\\\n",
    "                'level','location','sessionId','song','userId'])\n",
    "    for row in full_data_rows_list:\n",
    "        if (row[0] == ''):\n",
    "            continue\n",
    "        writer.writerow((row[0], row[2], row[3], row[4], row[5], row[6], row[7], row[8], row[12], row[13], row[16]))"
   ]
  },
  {
   "cell_type": "code",
   "execution_count": 9,
   "metadata": {
    "editable": true
   },
   "outputs": [
    {
     "name": "stdout",
     "output_type": "stream",
     "text": [
      "6821\n"
     ]
    }
   ],
   "source": [
    "# check the number of rows in your csv file\n",
    "with open('event_datafile_new.csv', 'r', encoding = 'utf8') as f:\n",
    "    print(sum(1 for line in f))"
   ]
  },
  {
   "cell_type": "markdown",
   "metadata": {
    "editable": true
   },
   "source": [
    "# Part II. Data Modeling in Apache Cassandra\n",
    "\n",
    "## The **event_datafile_new.csv** contains the following columns: \n",
    "- artist \n",
    "- firstName of user\n",
    "- gender of user\n",
    "- item number in session\n",
    "- last name of user\n",
    "- length of the song\n",
    "- level (paid or free song)\n",
    "- location of the user\n",
    "- sessionId\n",
    "- song title\n",
    "- userId\n",
    "\n",
    "The image below is a screenshot of what the denormalized data should appear like in the **event_datafile_new.csv** after the code above is run:<br>\n",
    "\n",
    "<img src=\"images/image_event_datafile_new.jpg\">"
   ]
  },
  {
   "cell_type": "markdown",
   "metadata": {
    "editable": true
   },
   "source": [
    "#### Creating a Cluster"
   ]
  },
  {
   "cell_type": "code",
   "execution_count": 10,
   "metadata": {
    "editable": true
   },
   "outputs": [
    {
     "name": "stdout",
     "output_type": "stream",
     "text": [
      "Connection Established !!\n"
     ]
    }
   ],
   "source": [
    "from cassandra.cluster import Cluster\n",
    "try:\n",
    "    cluster = Cluster(['127.0.0.1'])\n",
    "    session = cluster.connect()\n",
    "    print(\"Connection Established !!\")\n",
    "except Exception as e:\n",
    "    print(f\"Connection Failed !! Error : {e}\")"
   ]
  },
  {
   "cell_type": "markdown",
   "metadata": {
    "editable": true
   },
   "source": [
    "#### Create Keyspace"
   ]
  },
  {
   "cell_type": "code",
   "execution_count": 12,
   "metadata": {
    "editable": true
   },
   "outputs": [],
   "source": [
    "try:\n",
    "    session.execute(\"\"\"CREATE KEYSPACE IF NOT EXISTS song_plays\n",
    "                       WITH replication = {'class': 'SimpleStrategy',\n",
    "                                           'replication_factor' : 1};\"\"\")\n",
    "except Exception as e:\n",
    "    print(f\"Error creating keyspace: {e}\")"
   ]
  },
  {
   "cell_type": "markdown",
   "metadata": {
    "editable": true
   },
   "source": [
    "#### Set Keyspace"
   ]
  },
  {
   "cell_type": "code",
   "execution_count": 13,
   "metadata": {
    "editable": true
   },
   "outputs": [],
   "source": [
    "session.set_keyspace('song_plays')"
   ]
  },
  {
   "cell_type": "markdown",
   "metadata": {
    "editable": true
   },
   "source": [
    "## Query 1:\n",
    "#### Query Requirement: \n",
    "Give the artist, song title and song's length in the music app history that was heard during sessionId = 338, and itemInSession = 4 \n",
    "\n",
    "#### Query Requirement analysis: \n",
    "Since the query requires filtering on based `sessionId` and `itemInSession`, primary key must have these columns. \n",
    "- PARTITION KEY - `sessionId` \n",
    "- CLUSTURING COLUMNS - `itemInSession` \n",
    "- PRIMARY KEY - `(sessionId, itemInSession)` \n",
    "\n",
    "#### SELECT statement: \n",
    "```SELECT artist, song, length\n",
    "FROM session_song_details\n",
    "WHERE sessionId = 338\n",
    "  AND itemInSession = 4;```"
   ]
  },
  {
   "cell_type": "code",
   "execution_count": 16,
   "metadata": {
    "editable": true
   },
   "outputs": [
    {
     "name": "stdout",
     "output_type": "stream",
     "text": [
      "Table Creation Successful!!\n"
     ]
    }
   ],
   "source": [
    "session_song_create_query = \"\"\"CREATE TABLE IF NOT EXISTS session_song_details (\n",
    "                                   sessionId INT,\n",
    "                                   itemInSession INT,\n",
    "                                   artist TEXT,\n",
    "                                   song TEXT,\n",
    "                                   length FLOAT,\n",
    "                                   PRIMARY KEY (sessionId, itemInSession));\n",
    "                                \"\"\"\n",
    "try:\n",
    "    session.execute(session_song_create_query)\n",
    "    print(\"Table Creation Successful!!\")\n",
    "except Exception as e:\n",
    "    print(\"Table Creation Failed with Error:\", {e})"
   ]
  },
  {
   "cell_type": "code",
   "execution_count": 18,
   "metadata": {
    "editable": true
   },
   "outputs": [],
   "source": [
    "file = 'event_datafile_new.csv'\n",
    "\n",
    "with open(file, encoding = 'utf8') as f:\n",
    "    csvreader = csv.reader(f)\n",
    "    next(csvreader) # skip header\n",
    "    for line in csvreader:\n",
    "        query = \"INSERT INTO session_song_details (sessionId, itemInSession, artist, song, length) VALUES\"\n",
    "        query = query + \"(%s, %s, %s, %s, %s)\"\n",
    "        session.execute(query, (int(line[8]), int(line[3]), line[0], line[9], float(line[5])))"
   ]
  },
  {
   "cell_type": "markdown",
   "metadata": {
    "editable": true
   },
   "source": [
    "#### Do a SELECT to verify that the data have been inserted into each table"
   ]
  },
  {
   "cell_type": "code",
   "execution_count": 30,
   "metadata": {
    "editable": true,
    "scrolled": true
   },
   "outputs": [
    {
     "name": "stdout",
     "output_type": "stream",
     "text": [
      "Row(artist='Faithless', song='Music Matters (Mark Knight Dub)', length=495.30731201171875)\n"
     ]
    }
   ],
   "source": [
    "result_set = session.execute(\"\"\"SELECT artist, song, length\n",
    "                                FROM session_song_details\n",
    "                                WHERE sessionId = 338\n",
    "                                  AND itemInSession = 4;\"\"\")\n",
    "\n",
    "for r in result_set:\n",
    "    print(r)"
   ]
  },
  {
   "cell_type": "markdown",
   "metadata": {
    "editable": true
   },
   "source": [
    "## Query 2:\n",
    "#### Query Requirement: \n",
    "Give the name of artist, song (sorted by itemInSession) and user (first and last name) for userid = 10, sessionid = 182\n",
    "\n",
    "#### Query Requirement analysis: \n",
    "Since the query requires filtering on based `sessionId` and `userid`, primary key must have these columns. Also, since it is required for the rows returned to be sorted with respect to `itemInSession`, it should be part of the primary key as a clustering column.\n",
    "- PARTITION KEY - `(sessionId, userId)` \n",
    "- CLUSTURING COLUMNS - `itemInSession` \n",
    "- PRIMARY KEY - `((sessionId, userId), itemInSession))` \n",
    "\n",
    "#### SELECT statement: \n",
    "```SELECT artist, song, firstName, lastName\n",
    "FROM user_session_history\n",
    "WHERE userid = 10\n",
    "  AND sessionid = 182;```"
   ]
  },
  {
   "cell_type": "code",
   "execution_count": 36,
   "metadata": {
    "editable": true
   },
   "outputs": [
    {
     "name": "stdout",
     "output_type": "stream",
     "text": [
      "Table Creation Successful!!\n"
     ]
    }
   ],
   "source": [
    "user_history_create_query = \"\"\"CREATE TABLE IF NOT EXISTS user_session_history (\n",
    "                                   sessionId INT,\n",
    "                                   itemInSession INT,\n",
    "                                   userId INT,\n",
    "                                   artist TEXT,\n",
    "                                   song TEXT,\n",
    "                                   firstName TEXT,\n",
    "                                   lastName TEXT,\n",
    "                                   PRIMARY KEY ((sessionId, userId), itemInSession));\n",
    "                             \"\"\"\n",
    "\n",
    "try:\n",
    "    session.execute(user_history_create_query)\n",
    "    print(\"Table Creation Successful!!\")\n",
    "except Exception as e:\n",
    "    print(\"Table Creation Failed with Error:\", {e})"
   ]
  },
  {
   "cell_type": "code",
   "execution_count": 37,
   "metadata": {
    "editable": true
   },
   "outputs": [],
   "source": [
    "file = 'event_datafile_new.csv'\n",
    "\n",
    "with open(file, encoding = 'utf8') as f:\n",
    "    csvreader = csv.reader(f)\n",
    "    next(csvreader) # skip header\n",
    "    for line in csvreader:\n",
    "        query = \"INSERT INTO user_session_history (sessionId, itemInSession, userId, artist, song, firstName, lastName) VALUES\"\n",
    "        query = query + \"(%s, %s, %s, %s, %s, %s, %s)\"\n",
    "        session.execute(query, (int(line[8]), int(line[3]), int(line[10]), line[0], line[9], line[1], line[4]))"
   ]
  },
  {
   "cell_type": "code",
   "execution_count": 38,
   "metadata": {
    "editable": true
   },
   "outputs": [
    {
     "name": "stdout",
     "output_type": "stream",
     "text": [
      "Row(artist='Down To The Bone', song=\"Keep On Keepin' On\", firstname='Sylvie', lastname='Cruz')\n",
      "Row(artist='Three Drives', song='Greece 2000', firstname='Sylvie', lastname='Cruz')\n",
      "Row(artist='Sebastien Tellier', song='Kilometer', firstname='Sylvie', lastname='Cruz')\n",
      "Row(artist='Lonnie Gordon', song='Catch You Baby (Steve Pitron & Max Sanna Radio Edit)', firstname='Sylvie', lastname='Cruz')\n"
     ]
    }
   ],
   "source": [
    "result_set = session.execute(\"\"\"SELECT artist, song, firstName, lastName\n",
    "                                FROM user_session_history\n",
    "                                WHERE userid = 10\n",
    "                                  AND sessionid = 182;\"\"\")\n",
    "\n",
    "for r in result_set:\n",
    "    print(r)"
   ]
  },
  {
   "cell_type": "markdown",
   "metadata": {
    "editable": true
   },
   "source": [
    "## Query 3:\n",
    "#### Query Requirement: \n",
    "Give every user name (first and last) in my music app history who listened to the song 'All Hands Against His Own'\n",
    "\n",
    "#### Query Requirement analysis: \n",
    "Since the query requires filtering on song title (`song`), primary key must have the column. Also, since it is required to return all the users who have listened to a song, the `userId` should be part of the primary key as a clustering column as well.\n",
    "- PARTITION KEY - `song` \n",
    "- CLUSTURING COLUMNS - `userId` \n",
    "- PRIMARY KEY - `(song, userId)` \n",
    "\n",
    "#### SELECT statement: \n",
    "```SELECT firstName, lastName\n",
    "FROM song_listeners\n",
    "WHERE song = 'All Hands Against His Own';```"
   ]
  },
  {
   "cell_type": "code",
   "execution_count": 39,
   "metadata": {
    "editable": true
   },
   "outputs": [
    {
     "name": "stdout",
     "output_type": "stream",
     "text": [
      "Table Creation Successful!!\n"
     ]
    }
   ],
   "source": [
    "song_listeners_create_query = \"\"\"CREATE TABLE IF NOT EXISTS song_listeners (\n",
    "                                     userId INT,\n",
    "                                     song TEXT,\n",
    "                                     firstName TEXT,\n",
    "                                     lastName TEXT,\n",
    "                                     PRIMARY KEY (song, userId));\n",
    "                              \"\"\"\n",
    "\n",
    "try:\n",
    "    session.execute(song_listeners_create_query)\n",
    "    print(\"Table Creation Successful!!\")\n",
    "except Exception as e:\n",
    "    print(\"Table Creation Failed with Error:\", {e})"
   ]
  },
  {
   "cell_type": "code",
   "execution_count": 40,
   "metadata": {
    "editable": true
   },
   "outputs": [],
   "source": [
    "file = 'event_datafile_new.csv'\n",
    "\n",
    "with open(file, encoding = 'utf8') as f:\n",
    "    csvreader = csv.reader(f)\n",
    "    next(csvreader) # skip header\n",
    "    for line in csvreader:\n",
    "        query = \"INSERT INTO song_listeners (userId, song, firstName, lastName) VALUES\"\n",
    "        query = query + \"(%s, %s, %s, %s)\"\n",
    "        session.execute(query, (int(line[10]), line[9], line[1], line[4]))"
   ]
  },
  {
   "cell_type": "code",
   "execution_count": 41,
   "metadata": {
    "editable": true
   },
   "outputs": [
    {
     "name": "stdout",
     "output_type": "stream",
     "text": [
      "Row(firstname='Jacqueline', lastname='Lynch')\n",
      "Row(firstname='Tegan', lastname='Levine')\n",
      "Row(firstname='Sara', lastname='Johnson')\n"
     ]
    }
   ],
   "source": [
    "result_set = session.execute(\"\"\"SELECT firstName, lastName\n",
    "                                FROM song_listeners\n",
    "                                WHERE song = 'All Hands Against His Own'\"\"\")\n",
    "\n",
    "for r in result_set:\n",
    "    print(r)"
   ]
  },
  {
   "cell_type": "markdown",
   "metadata": {
    "editable": true
   },
   "source": [
    "### Drop the tables before closing out the sessions"
   ]
  },
  {
   "cell_type": "code",
   "execution_count": 42,
   "metadata": {
    "editable": true
   },
   "outputs": [
    {
     "name": "stdout",
     "output_type": "stream",
     "text": [
      "Keyspace deleted successfully!!\n"
     ]
    }
   ],
   "source": [
    "try:\n",
    "    session.execute(\"DROP KEYSPACE IF EXISTS song_plays\")\n",
    "    print(\"Keyspace deleted successfully!!\")\n",
    "except Exception as e:\n",
    "    print(\"Keyspace deletion failed with Error:\", {e})"
   ]
  },
  {
   "cell_type": "markdown",
   "metadata": {
    "editable": true
   },
   "source": [
    "### Close the session and cluster connection¶"
   ]
  },
  {
   "cell_type": "code",
   "execution_count": 43,
   "metadata": {
    "editable": true
   },
   "outputs": [],
   "source": [
    "session.shutdown()\n",
    "cluster.shutdown()"
   ]
  }
 ],
 "metadata": {
  "kernelspec": {
   "display_name": "Python 3",
   "language": "python",
   "name": "python3"
  },
  "language_info": {
   "codemirror_mode": {
    "name": "ipython",
    "version": 3
   },
   "file_extension": ".py",
   "mimetype": "text/x-python",
   "name": "python",
   "nbconvert_exporter": "python",
   "pygments_lexer": "ipython3",
   "version": "3.6.3"
  }
 },
 "nbformat": 4,
 "nbformat_minor": 4
}
